{
 "cells": [
  {
   "cell_type": "markdown",
   "id": "a12aef91",
   "metadata": {},
   "source": [
    "## Task 1: Data Cleaning and Preprocessing"
   ]
  },
  {
   "cell_type": "markdown",
   "id": "67bf6325",
   "metadata": {},
   "source": [
    "### Objective: Clean and prepare a raw dataset (with nulls, duplicates, inconsistent formats)."
   ]
  },
  {
   "cell_type": "markdown",
   "id": "5d3fb15a",
   "metadata": {},
   "source": [
    "### Dataset: Netflix Movies and TV Shows"
   ]
  },
  {
   "cell_type": "markdown",
   "id": "1d123ff6",
   "metadata": {
    "vscode": {
     "languageId": "plaintext"
    }
   },
   "source": [
    "#### Step 1: Import Libraries"
   ]
  },
  {
   "cell_type": "code",
   "execution_count": 23,
   "id": "648b9851",
   "metadata": {},
   "outputs": [],
   "source": [
    "import pandas as pd  # "
   ]
  },
  {
   "cell_type": "markdown",
   "id": "03647036",
   "metadata": {},
   "source": [
    "##### Step 2: Load the dataset"
   ]
  },
  {
   "cell_type": "code",
   "execution_count": 24,
   "id": "6e5bda34",
   "metadata": {},
   "outputs": [],
   "source": [
    "df = pd.read_csv(r\"C:\\DSAI study materials\\Job Hunt\\Elevate Labs\\04-08-25\\netflix_titles.csv\")"
   ]
  },
  {
   "cell_type": "code",
   "execution_count": 25,
   "id": "9bd0ad1d",
   "metadata": {},
   "outputs": [
    {
     "data": {
      "text/plain": [
       "(8807, 12)"
      ]
     },
     "execution_count": 25,
     "metadata": {},
     "output_type": "execute_result"
    }
   ],
   "source": [
    "df.shape  # Display the shape of the DataFrame"
   ]
  },
  {
   "cell_type": "code",
   "execution_count": 26,
   "id": "051ca05c",
   "metadata": {},
   "outputs": [
    {
     "data": {
      "text/html": [
       "<div>\n",
       "<style scoped>\n",
       "    .dataframe tbody tr th:only-of-type {\n",
       "        vertical-align: middle;\n",
       "    }\n",
       "\n",
       "    .dataframe tbody tr th {\n",
       "        vertical-align: top;\n",
       "    }\n",
       "\n",
       "    .dataframe thead th {\n",
       "        text-align: right;\n",
       "    }\n",
       "</style>\n",
       "<table border=\"1\" class=\"dataframe\">\n",
       "  <thead>\n",
       "    <tr style=\"text-align: right;\">\n",
       "      <th></th>\n",
       "      <th>show_id</th>\n",
       "      <th>type</th>\n",
       "      <th>title</th>\n",
       "      <th>director</th>\n",
       "      <th>cast</th>\n",
       "      <th>country</th>\n",
       "      <th>date_added</th>\n",
       "      <th>release_year</th>\n",
       "      <th>rating</th>\n",
       "      <th>duration</th>\n",
       "      <th>listed_in</th>\n",
       "      <th>description</th>\n",
       "    </tr>\n",
       "  </thead>\n",
       "  <tbody>\n",
       "    <tr>\n",
       "      <th>0</th>\n",
       "      <td>s1</td>\n",
       "      <td>Movie</td>\n",
       "      <td>Dick Johnson Is Dead</td>\n",
       "      <td>Kirsten Johnson</td>\n",
       "      <td>NaN</td>\n",
       "      <td>United States</td>\n",
       "      <td>September 25, 2021</td>\n",
       "      <td>2020</td>\n",
       "      <td>PG-13</td>\n",
       "      <td>90 min</td>\n",
       "      <td>Documentaries</td>\n",
       "      <td>As her father nears the end of his life, filmm...</td>\n",
       "    </tr>\n",
       "    <tr>\n",
       "      <th>1</th>\n",
       "      <td>s2</td>\n",
       "      <td>TV Show</td>\n",
       "      <td>Blood &amp; Water</td>\n",
       "      <td>NaN</td>\n",
       "      <td>Ama Qamata, Khosi Ngema, Gail Mabalane, Thaban...</td>\n",
       "      <td>South Africa</td>\n",
       "      <td>September 24, 2021</td>\n",
       "      <td>2021</td>\n",
       "      <td>TV-MA</td>\n",
       "      <td>2 Seasons</td>\n",
       "      <td>International TV Shows, TV Dramas, TV Mysteries</td>\n",
       "      <td>After crossing paths at a party, a Cape Town t...</td>\n",
       "    </tr>\n",
       "    <tr>\n",
       "      <th>2</th>\n",
       "      <td>s3</td>\n",
       "      <td>TV Show</td>\n",
       "      <td>Ganglands</td>\n",
       "      <td>Julien Leclercq</td>\n",
       "      <td>Sami Bouajila, Tracy Gotoas, Samuel Jouy, Nabi...</td>\n",
       "      <td>NaN</td>\n",
       "      <td>September 24, 2021</td>\n",
       "      <td>2021</td>\n",
       "      <td>TV-MA</td>\n",
       "      <td>1 Season</td>\n",
       "      <td>Crime TV Shows, International TV Shows, TV Act...</td>\n",
       "      <td>To protect his family from a powerful drug lor...</td>\n",
       "    </tr>\n",
       "    <tr>\n",
       "      <th>3</th>\n",
       "      <td>s4</td>\n",
       "      <td>TV Show</td>\n",
       "      <td>Jailbirds New Orleans</td>\n",
       "      <td>NaN</td>\n",
       "      <td>NaN</td>\n",
       "      <td>NaN</td>\n",
       "      <td>September 24, 2021</td>\n",
       "      <td>2021</td>\n",
       "      <td>TV-MA</td>\n",
       "      <td>1 Season</td>\n",
       "      <td>Docuseries, Reality TV</td>\n",
       "      <td>Feuds, flirtations and toilet talk go down amo...</td>\n",
       "    </tr>\n",
       "    <tr>\n",
       "      <th>4</th>\n",
       "      <td>s5</td>\n",
       "      <td>TV Show</td>\n",
       "      <td>Kota Factory</td>\n",
       "      <td>NaN</td>\n",
       "      <td>Mayur More, Jitendra Kumar, Ranjan Raj, Alam K...</td>\n",
       "      <td>India</td>\n",
       "      <td>September 24, 2021</td>\n",
       "      <td>2021</td>\n",
       "      <td>TV-MA</td>\n",
       "      <td>2 Seasons</td>\n",
       "      <td>International TV Shows, Romantic TV Shows, TV ...</td>\n",
       "      <td>In a city of coaching centers known to train I...</td>\n",
       "    </tr>\n",
       "  </tbody>\n",
       "</table>\n",
       "</div>"
      ],
      "text/plain": [
       "  show_id     type                  title         director  \\\n",
       "0      s1    Movie   Dick Johnson Is Dead  Kirsten Johnson   \n",
       "1      s2  TV Show          Blood & Water              NaN   \n",
       "2      s3  TV Show              Ganglands  Julien Leclercq   \n",
       "3      s4  TV Show  Jailbirds New Orleans              NaN   \n",
       "4      s5  TV Show           Kota Factory              NaN   \n",
       "\n",
       "                                                cast        country  \\\n",
       "0                                                NaN  United States   \n",
       "1  Ama Qamata, Khosi Ngema, Gail Mabalane, Thaban...   South Africa   \n",
       "2  Sami Bouajila, Tracy Gotoas, Samuel Jouy, Nabi...            NaN   \n",
       "3                                                NaN            NaN   \n",
       "4  Mayur More, Jitendra Kumar, Ranjan Raj, Alam K...          India   \n",
       "\n",
       "           date_added  release_year rating   duration  \\\n",
       "0  September 25, 2021          2020  PG-13     90 min   \n",
       "1  September 24, 2021          2021  TV-MA  2 Seasons   \n",
       "2  September 24, 2021          2021  TV-MA   1 Season   \n",
       "3  September 24, 2021          2021  TV-MA   1 Season   \n",
       "4  September 24, 2021          2021  TV-MA  2 Seasons   \n",
       "\n",
       "                                           listed_in  \\\n",
       "0                                      Documentaries   \n",
       "1    International TV Shows, TV Dramas, TV Mysteries   \n",
       "2  Crime TV Shows, International TV Shows, TV Act...   \n",
       "3                             Docuseries, Reality TV   \n",
       "4  International TV Shows, Romantic TV Shows, TV ...   \n",
       "\n",
       "                                         description  \n",
       "0  As her father nears the end of his life, filmm...  \n",
       "1  After crossing paths at a party, a Cape Town t...  \n",
       "2  To protect his family from a powerful drug lor...  \n",
       "3  Feuds, flirtations and toilet talk go down amo...  \n",
       "4  In a city of coaching centers known to train I...  "
      ]
     },
     "execution_count": 26,
     "metadata": {},
     "output_type": "execute_result"
    }
   ],
   "source": [
    "df.head()  # Display the first few rows of the DataFrame"
   ]
  },
  {
   "cell_type": "markdown",
   "id": "e81739dd",
   "metadata": {},
   "source": [
    "#### Step 3: Initial Inspection"
   ]
  },
  {
   "cell_type": "code",
   "execution_count": 27,
   "id": "e6470104",
   "metadata": {},
   "outputs": [
    {
     "name": "stdout",
     "output_type": "stream",
     "text": [
      "<class 'pandas.core.frame.DataFrame'>\n",
      "RangeIndex: 8807 entries, 0 to 8806\n",
      "Data columns (total 12 columns):\n",
      " #   Column        Non-Null Count  Dtype \n",
      "---  ------        --------------  ----- \n",
      " 0   show_id       8807 non-null   object\n",
      " 1   type          8807 non-null   object\n",
      " 2   title         8807 non-null   object\n",
      " 3   director      6173 non-null   object\n",
      " 4   cast          7982 non-null   object\n",
      " 5   country       7976 non-null   object\n",
      " 6   date_added    8797 non-null   object\n",
      " 7   release_year  8807 non-null   int64 \n",
      " 8   rating        8803 non-null   object\n",
      " 9   duration      8804 non-null   object\n",
      " 10  listed_in     8807 non-null   object\n",
      " 11  description   8807 non-null   object\n",
      "dtypes: int64(1), object(11)\n",
      "memory usage: 825.8+ KB\n"
     ]
    }
   ],
   "source": [
    "# Basic Information\n",
    "df.info()  # Get a concise summary of the DataFrame"
   ]
  },
  {
   "cell_type": "code",
   "execution_count": 28,
   "id": "6aec0c5d",
   "metadata": {},
   "outputs": [
    {
     "name": "stdout",
     "output_type": "stream",
     "text": [
      "show_id         8807\n",
      "type               2\n",
      "title           8807\n",
      "director        4528\n",
      "cast            7692\n",
      "country          748\n",
      "date_added      1767\n",
      "release_year      74\n",
      "rating            17\n",
      "duration         220\n",
      "listed_in        514\n",
      "description     8775\n",
      "dtype: int64\n"
     ]
    }
   ],
   "source": [
    "# Unique values per column\n",
    "unique_counts = df.nunique()\n",
    "print(unique_counts)"
   ]
  },
  {
   "cell_type": "code",
   "execution_count": 29,
   "id": "c3b0d38e",
   "metadata": {},
   "outputs": [
    {
     "data": {
      "text/html": [
       "<div>\n",
       "<style scoped>\n",
       "    .dataframe tbody tr th:only-of-type {\n",
       "        vertical-align: middle;\n",
       "    }\n",
       "\n",
       "    .dataframe tbody tr th {\n",
       "        vertical-align: top;\n",
       "    }\n",
       "\n",
       "    .dataframe thead th {\n",
       "        text-align: right;\n",
       "    }\n",
       "</style>\n",
       "<table border=\"1\" class=\"dataframe\">\n",
       "  <thead>\n",
       "    <tr style=\"text-align: right;\">\n",
       "      <th></th>\n",
       "      <th>show_id</th>\n",
       "      <th>type</th>\n",
       "      <th>title</th>\n",
       "      <th>director</th>\n",
       "      <th>cast</th>\n",
       "      <th>country</th>\n",
       "      <th>date_added</th>\n",
       "      <th>release_year</th>\n",
       "      <th>rating</th>\n",
       "      <th>duration</th>\n",
       "      <th>listed_in</th>\n",
       "      <th>description</th>\n",
       "    </tr>\n",
       "  </thead>\n",
       "  <tbody>\n",
       "    <tr>\n",
       "      <th>count</th>\n",
       "      <td>8807</td>\n",
       "      <td>8807</td>\n",
       "      <td>8807</td>\n",
       "      <td>6173</td>\n",
       "      <td>7982</td>\n",
       "      <td>7976</td>\n",
       "      <td>8797</td>\n",
       "      <td>8807.000000</td>\n",
       "      <td>8803</td>\n",
       "      <td>8804</td>\n",
       "      <td>8807</td>\n",
       "      <td>8807</td>\n",
       "    </tr>\n",
       "    <tr>\n",
       "      <th>unique</th>\n",
       "      <td>8807</td>\n",
       "      <td>2</td>\n",
       "      <td>8807</td>\n",
       "      <td>4528</td>\n",
       "      <td>7692</td>\n",
       "      <td>748</td>\n",
       "      <td>1767</td>\n",
       "      <td>NaN</td>\n",
       "      <td>17</td>\n",
       "      <td>220</td>\n",
       "      <td>514</td>\n",
       "      <td>8775</td>\n",
       "    </tr>\n",
       "    <tr>\n",
       "      <th>top</th>\n",
       "      <td>s1</td>\n",
       "      <td>Movie</td>\n",
       "      <td>Dick Johnson Is Dead</td>\n",
       "      <td>Rajiv Chilaka</td>\n",
       "      <td>David Attenborough</td>\n",
       "      <td>United States</td>\n",
       "      <td>January 1, 2020</td>\n",
       "      <td>NaN</td>\n",
       "      <td>TV-MA</td>\n",
       "      <td>1 Season</td>\n",
       "      <td>Dramas, International Movies</td>\n",
       "      <td>Paranormal activity at a lush, abandoned prope...</td>\n",
       "    </tr>\n",
       "    <tr>\n",
       "      <th>freq</th>\n",
       "      <td>1</td>\n",
       "      <td>6131</td>\n",
       "      <td>1</td>\n",
       "      <td>19</td>\n",
       "      <td>19</td>\n",
       "      <td>2818</td>\n",
       "      <td>109</td>\n",
       "      <td>NaN</td>\n",
       "      <td>3207</td>\n",
       "      <td>1793</td>\n",
       "      <td>362</td>\n",
       "      <td>4</td>\n",
       "    </tr>\n",
       "    <tr>\n",
       "      <th>mean</th>\n",
       "      <td>NaN</td>\n",
       "      <td>NaN</td>\n",
       "      <td>NaN</td>\n",
       "      <td>NaN</td>\n",
       "      <td>NaN</td>\n",
       "      <td>NaN</td>\n",
       "      <td>NaN</td>\n",
       "      <td>2014.180198</td>\n",
       "      <td>NaN</td>\n",
       "      <td>NaN</td>\n",
       "      <td>NaN</td>\n",
       "      <td>NaN</td>\n",
       "    </tr>\n",
       "    <tr>\n",
       "      <th>std</th>\n",
       "      <td>NaN</td>\n",
       "      <td>NaN</td>\n",
       "      <td>NaN</td>\n",
       "      <td>NaN</td>\n",
       "      <td>NaN</td>\n",
       "      <td>NaN</td>\n",
       "      <td>NaN</td>\n",
       "      <td>8.819312</td>\n",
       "      <td>NaN</td>\n",
       "      <td>NaN</td>\n",
       "      <td>NaN</td>\n",
       "      <td>NaN</td>\n",
       "    </tr>\n",
       "    <tr>\n",
       "      <th>min</th>\n",
       "      <td>NaN</td>\n",
       "      <td>NaN</td>\n",
       "      <td>NaN</td>\n",
       "      <td>NaN</td>\n",
       "      <td>NaN</td>\n",
       "      <td>NaN</td>\n",
       "      <td>NaN</td>\n",
       "      <td>1925.000000</td>\n",
       "      <td>NaN</td>\n",
       "      <td>NaN</td>\n",
       "      <td>NaN</td>\n",
       "      <td>NaN</td>\n",
       "    </tr>\n",
       "    <tr>\n",
       "      <th>25%</th>\n",
       "      <td>NaN</td>\n",
       "      <td>NaN</td>\n",
       "      <td>NaN</td>\n",
       "      <td>NaN</td>\n",
       "      <td>NaN</td>\n",
       "      <td>NaN</td>\n",
       "      <td>NaN</td>\n",
       "      <td>2013.000000</td>\n",
       "      <td>NaN</td>\n",
       "      <td>NaN</td>\n",
       "      <td>NaN</td>\n",
       "      <td>NaN</td>\n",
       "    </tr>\n",
       "    <tr>\n",
       "      <th>50%</th>\n",
       "      <td>NaN</td>\n",
       "      <td>NaN</td>\n",
       "      <td>NaN</td>\n",
       "      <td>NaN</td>\n",
       "      <td>NaN</td>\n",
       "      <td>NaN</td>\n",
       "      <td>NaN</td>\n",
       "      <td>2017.000000</td>\n",
       "      <td>NaN</td>\n",
       "      <td>NaN</td>\n",
       "      <td>NaN</td>\n",
       "      <td>NaN</td>\n",
       "    </tr>\n",
       "    <tr>\n",
       "      <th>75%</th>\n",
       "      <td>NaN</td>\n",
       "      <td>NaN</td>\n",
       "      <td>NaN</td>\n",
       "      <td>NaN</td>\n",
       "      <td>NaN</td>\n",
       "      <td>NaN</td>\n",
       "      <td>NaN</td>\n",
       "      <td>2019.000000</td>\n",
       "      <td>NaN</td>\n",
       "      <td>NaN</td>\n",
       "      <td>NaN</td>\n",
       "      <td>NaN</td>\n",
       "    </tr>\n",
       "    <tr>\n",
       "      <th>max</th>\n",
       "      <td>NaN</td>\n",
       "      <td>NaN</td>\n",
       "      <td>NaN</td>\n",
       "      <td>NaN</td>\n",
       "      <td>NaN</td>\n",
       "      <td>NaN</td>\n",
       "      <td>NaN</td>\n",
       "      <td>2021.000000</td>\n",
       "      <td>NaN</td>\n",
       "      <td>NaN</td>\n",
       "      <td>NaN</td>\n",
       "      <td>NaN</td>\n",
       "    </tr>\n",
       "  </tbody>\n",
       "</table>\n",
       "</div>"
      ],
      "text/plain": [
       "       show_id   type                 title       director  \\\n",
       "count     8807   8807                  8807           6173   \n",
       "unique    8807      2                  8807           4528   \n",
       "top         s1  Movie  Dick Johnson Is Dead  Rajiv Chilaka   \n",
       "freq         1   6131                     1             19   \n",
       "mean       NaN    NaN                   NaN            NaN   \n",
       "std        NaN    NaN                   NaN            NaN   \n",
       "min        NaN    NaN                   NaN            NaN   \n",
       "25%        NaN    NaN                   NaN            NaN   \n",
       "50%        NaN    NaN                   NaN            NaN   \n",
       "75%        NaN    NaN                   NaN            NaN   \n",
       "max        NaN    NaN                   NaN            NaN   \n",
       "\n",
       "                      cast        country       date_added  release_year  \\\n",
       "count                 7982           7976             8797   8807.000000   \n",
       "unique                7692            748             1767           NaN   \n",
       "top     David Attenborough  United States  January 1, 2020           NaN   \n",
       "freq                    19           2818              109           NaN   \n",
       "mean                   NaN            NaN              NaN   2014.180198   \n",
       "std                    NaN            NaN              NaN      8.819312   \n",
       "min                    NaN            NaN              NaN   1925.000000   \n",
       "25%                    NaN            NaN              NaN   2013.000000   \n",
       "50%                    NaN            NaN              NaN   2017.000000   \n",
       "75%                    NaN            NaN              NaN   2019.000000   \n",
       "max                    NaN            NaN              NaN   2021.000000   \n",
       "\n",
       "       rating  duration                     listed_in  \\\n",
       "count    8803      8804                          8807   \n",
       "unique     17       220                           514   \n",
       "top     TV-MA  1 Season  Dramas, International Movies   \n",
       "freq     3207      1793                           362   \n",
       "mean      NaN       NaN                           NaN   \n",
       "std       NaN       NaN                           NaN   \n",
       "min       NaN       NaN                           NaN   \n",
       "25%       NaN       NaN                           NaN   \n",
       "50%       NaN       NaN                           NaN   \n",
       "75%       NaN       NaN                           NaN   \n",
       "max       NaN       NaN                           NaN   \n",
       "\n",
       "                                              description  \n",
       "count                                                8807  \n",
       "unique                                               8775  \n",
       "top     Paranormal activity at a lush, abandoned prope...  \n",
       "freq                                                    4  \n",
       "mean                                                  NaN  \n",
       "std                                                   NaN  \n",
       "min                                                   NaN  \n",
       "25%                                                   NaN  \n",
       "50%                                                   NaN  \n",
       "75%                                                   NaN  \n",
       "max                                                   NaN  "
      ]
     },
     "execution_count": 29,
     "metadata": {},
     "output_type": "execute_result"
    }
   ],
   "source": [
    "# summary statistics\n",
    "df.describe(include='all')"
   ]
  },
  {
   "cell_type": "code",
   "execution_count": 30,
   "id": "57321adf",
   "metadata": {},
   "outputs": [
    {
     "name": "stdout",
     "output_type": "stream",
     "text": [
      "Number of duplicate rows: 0\n"
     ]
    }
   ],
   "source": [
    "# Check for duplicates\n",
    "duplicates = df.duplicated().sum()\n",
    "print(f\"Number of duplicate rows: {duplicates}\")"
   ]
  },
  {
   "cell_type": "code",
   "execution_count": 31,
   "id": "8ed4c824",
   "metadata": {},
   "outputs": [],
   "source": [
    "df.drop_duplicates(inplace=True)"
   ]
  },
  {
   "cell_type": "markdown",
   "id": "22f03db0",
   "metadata": {},
   "source": [
    "#### Step 4: Clean the data"
   ]
  },
  {
   "cell_type": "code",
   "execution_count": 32,
   "id": "553e8c97",
   "metadata": {},
   "outputs": [
    {
     "data": {
      "text/plain": [
       "show_id            0\n",
       "type               0\n",
       "title              0\n",
       "director        2634\n",
       "cast             825\n",
       "country          831\n",
       "date_added        10\n",
       "release_year       0\n",
       "rating             4\n",
       "duration           3\n",
       "listed_in          0\n",
       "description        0\n",
       "dtype: int64"
      ]
     },
     "execution_count": 32,
     "metadata": {},
     "output_type": "execute_result"
    }
   ],
   "source": [
    "# Handle missing values\n",
    "df.isnull().sum()  # Check for missing values in each column"
   ]
  },
  {
   "cell_type": "code",
   "execution_count": 33,
   "id": "7c65cc91",
   "metadata": {},
   "outputs": [],
   "source": [
    "# Fill missing values\n",
    "df['director'] = df['director'].fillna('Unknown') # Fill missing director names with 'Unknown'\n",
    "df['cast'] = df['cast'].fillna('Not Available') # Fill missing cast with 'Not Available'\n",
    "df['country'] = df['country'].fillna(df['country'].mode()[0]) # Fill missing country with the most common country\n",
    "df['rating'] = df['rating'].fillna('Not Rated') # Fill missing ratings with 'Not Rated'\n",
    "\n",
    "# Drop rows with missing date_added or duration\n",
    "df = df.dropna(subset=['date_added', 'duration']) # Drop rows where 'date_added' or 'duration' is missing\n"
   ]
  },
  {
   "cell_type": "code",
   "execution_count": 34,
   "id": "27e29d67",
   "metadata": {},
   "outputs": [
    {
     "data": {
      "text/plain": [
       "show_id         0\n",
       "type            0\n",
       "title           0\n",
       "director        0\n",
       "cast            0\n",
       "country         0\n",
       "date_added      0\n",
       "release_year    0\n",
       "rating          0\n",
       "duration        0\n",
       "listed_in       0\n",
       "description     0\n",
       "dtype: int64"
      ]
     },
     "execution_count": 34,
     "metadata": {},
     "output_type": "execute_result"
    }
   ],
   "source": [
    "df.isnull().sum()  # Check again for missing values after cleaning\n"
   ]
  },
  {
   "cell_type": "markdown",
   "id": "2a4cb684",
   "metadata": {},
   "source": [
    "#### Step 5: Standardize and format columns"
   ]
  },
  {
   "cell_type": "code",
   "execution_count": 35,
   "id": "68d28814",
   "metadata": {},
   "outputs": [],
   "source": [
    "# Rename columns for consistency\n",
    "df.columns = df.columns.str.strip().str.lower().str.replace(' ', '_') # Standardize column names to lowercase and replace spaces with underscores\n"
   ]
  },
  {
   "cell_type": "code",
   "execution_count": 36,
   "id": "98a9cfc8",
   "metadata": {},
   "outputs": [],
   "source": [
    "# Standardize text values\n",
    "df['type'] = df['type'].str.strip().str.title() # Standardize 'type' to title case\n",
    "df['country'] = df['country'].str.strip().str.title()# Standardize 'country' to title case\n",
    "df['rating'] = df['rating'].str.strip().str.upper()# Standardize 'rating' to uppercase\n",
    "df['listed_in'] = df['listed_in'].str.strip()# Standardize 'listed_in' by stripping whitespace\n",
    "df['director'] = df['director'].str.strip()# Standardize 'director' by stripping whitespace\n",
    "df['cast'] = df['cast'].str.strip()# Standardize 'cast' by stripping whitespace\n",
    "df['description'] = df['description'].str.strip()# Standardize 'description' by stripping whitespace\n",
    "\n"
   ]
  },
  {
   "cell_type": "code",
   "execution_count": 37,
   "id": "9d5fd51c",
   "metadata": {},
   "outputs": [],
   "source": [
    "# Convert to datetime format\n",
    "df['date_added'] = pd.to_datetime(df['date_added'], errors='coerce') # Convert 'date_added' to datetime, coerce errors to NaT\n",
    "\n",
    "#  Create a formatted string column\n",
    "df['date_added_ddmmyyyy'] = df['date_added'].dt.strftime('%d-%m-%Y') # Create a new column with the formatted date\n"
   ]
  },
  {
   "cell_type": "code",
   "execution_count": 38,
   "id": "69f13d34",
   "metadata": {},
   "outputs": [
    {
     "data": {
      "text/plain": [
       "show_id                        object\n",
       "type                           object\n",
       "title                          object\n",
       "director                       object\n",
       "cast                           object\n",
       "country                        object\n",
       "date_added             datetime64[ns]\n",
       "release_year                    int32\n",
       "rating                         object\n",
       "duration                       object\n",
       "listed_in                      object\n",
       "description                    object\n",
       "date_added_ddmmyyyy            object\n",
       "dtype: object"
      ]
     },
     "execution_count": 38,
     "metadata": {},
     "output_type": "execute_result"
    }
   ],
   "source": [
    "# Check and fix data types\n",
    "# Ensure release year is int\n",
    "df['release_year'] = df['release_year'].astype(int)\n",
    "\n",
    "# Ensure duration is string\n",
    "df['duration'] = df['duration'].astype(str)\n",
    "\n",
    "# Confirm data types\n",
    "df.dtypes\n"
   ]
  },
  {
   "cell_type": "code",
   "execution_count": 39,
   "id": "4cbe011f",
   "metadata": {},
   "outputs": [
    {
     "name": "stderr",
     "output_type": "stream",
     "text": [
      "<>:4: SyntaxWarning: invalid escape sequence '\\d'\n",
      "<>:4: SyntaxWarning: invalid escape sequence '\\d'\n",
      "C:\\Users\\dj005\\AppData\\Local\\Temp\\ipykernel_23092\\2811776040.py:4: SyntaxWarning: invalid escape sequence '\\d'\n",
      "  df['duration_num'] = df['duration'].str.extract('(\\d+)').astype(float)\n"
     ]
    }
   ],
   "source": [
    "# Extract duration in a structured way\n",
    "# Separate number and time unit\n",
    "# Extract numeric duration (e.g., 90, 2)\n",
    "df['duration_num'] = df['duration'].str.extract('(\\d+)').astype(float)\n",
    "\n",
    "# Extract type of duration (e.g., min, seasons)\n",
    "df['duration_type'] = df['duration'].str.extract('([a-zA-Z]+)')[0].str.lower()\n"
   ]
  },
  {
   "cell_type": "code",
   "execution_count": 40,
   "id": "ec913777",
   "metadata": {},
   "outputs": [
    {
     "name": "stdout",
     "output_type": "stream",
     "text": [
      "Cleaned data saved to 'netflix_titles_cleaned.csv'\n"
     ]
    }
   ],
   "source": [
    "# Save the cleaned DataFrame to a new CSV file\n",
    "df.to_csv(r\"C:\\DSAI study materials\\Job Hunt\\Elevate Labs\\04-08-25\\netflix_titles_cleaned.csv\", index=False)  # Save cleaned data\n",
    "print(\"Cleaned data saved to 'netflix_titles_cleaned.csv'\")"
   ]
  },
  {
   "cell_type": "markdown",
   "id": "ba48e281",
   "metadata": {},
   "source": [
    "## Conclusion\n",
    "### The Netflix dataset has been thoroughly cleaned and preprocessed. Missing values were handled, column names and text fields standardized, and relevant features like duration_num and duration_type were extracted. No duplicates were found, and all data types were corrected. The dataset is now well-structured and ready for analysis or machine learning tasks."
   ]
  },
  {
   "cell_type": "markdown",
   "id": "7a607a5b",
   "metadata": {},
   "source": [
    "# I"
   ]
  }
 ],
 "metadata": {
  "kernelspec": {
   "display_name": "base",
   "language": "python",
   "name": "python3"
  },
  "language_info": {
   "codemirror_mode": {
    "name": "ipython",
    "version": 3
   },
   "file_extension": ".py",
   "mimetype": "text/x-python",
   "name": "python",
   "nbconvert_exporter": "python",
   "pygments_lexer": "ipython3",
   "version": "3.12.7"
  }
 },
 "nbformat": 4,
 "nbformat_minor": 5
}
